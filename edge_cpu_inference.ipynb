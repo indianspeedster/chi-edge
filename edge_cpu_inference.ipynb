{
 "cells": [
  {
   "cell_type": "markdown",
   "metadata": {},
   "source": [
    "# Using edge devices for CPU-based inference"
   ],
   "id": "82863e6d-5ffe-424c-a6d6-c195dba1fc03"
  },
  {
   "cell_type": "markdown",
   "metadata": {},
   "source": [
    "Machine learning models are most often trained in the “cloud”, on powerful centralized servers with specialized resources (like GPU acceleration) for training machine learning models.\n",
    "\n",
    "However, for a variety of reasons including privacy, latency, and network connectivity or bandwidth constraints, it is often preferable to *use* these models (i.e. do inference) at “edge” devices located wherever the input data is/where the model’s prediction is going to be used.\n",
    "\n",
    "These edge devices are less powerful and typically lack any special acceleration, so the inference time (the time from when the input is fed to the model, until the model outputs its prediction) may not be as fast as it would be on a cloud server - but we avoid having to send the input data to the cloud and then sending the prediction back."
   ],
   "id": "3c822f76-ec48-4f1d-bd34-3ce1e02e9f34"
  },
  {
   "cell_type": "markdown",
   "metadata": {},
   "source": [
    "This notebook assumes you already have a “lease” available for a device on the CHI@Edge testbed. Then, it will show you how to:\n",
    "\n",
    "-   launch a “container” on that device\n",
    "-   attach an IP address to the container, so that you can access it over SSH\n",
    "-   transfer files to and from the container\n",
    "-   use a pre-trained image classification model to do inference on the edge device\n",
    "-   delete the container"
   ],
   "id": "5d20aa22-b97e-49d6-8e06-12e1b20abb28"
  },
  {
   "cell_type": "markdown",
   "metadata": {},
   "source": [
    "## Launch a container on an edge device\n",
    "\n",
    "We will start by preparing our environment in this notebook, then launching a container on an edge device using our pre-existing lease."
   ],
   "id": "e7c7562a-4f3e-4ab3-af13-dc90d82dbcde"
  },
  {
   "cell_type": "markdown",
   "metadata": {},
   "source": [
    "First, we load some required libraries:"
   ],
   "id": "be84ece2-bd89-4167-98f2-d15822cd77ca"
  },
  {
   "cell_type": "code",
   "execution_count": null,
   "metadata": {},
   "outputs": [],
   "source": [
    "import chi\n",
    "from chi import container\n",
    "from chi import lease\n",
    "import datetime\n",
    "import os"
   ],
   "id": "f3e58fbd-4f71-4409-99a3-b800a8ac909d"
  },
  {
   "cell_type": "markdown",
   "metadata": {},
   "source": [
    "We indicate that we’re going to use the CHI@Edge site. We also need to specify the name of the Chameleon “project” that this experiment is part of. The project name will have the format “CHI-XXXXXX”, where the last part is a 6-digit number, and you can find it on your [user dashboard](https://chameleoncloud.org/user/dashboard/).\n",
    "\n",
    "In the cell below, replace the project ID with your *own* project ID, then run the cell."
   ],
   "id": "e770e593-7878-46c9-a908-cae2a3093bd6"
  },
  {
   "cell_type": "code",
   "execution_count": null,
   "metadata": {},
   "outputs": [],
   "source": [
    "chi.use_site(\"CHI@Edge\")\n",
    "chi.set(\"project_name\", \"CHI-XXXXXX\")"
   ],
   "id": "292fd94f-5fac-4a20-b2f6-10f0f0917e3b"
  },
  {
   "cell_type": "markdown",
   "metadata": {},
   "source": [
    "Next, we’ll specify the lease ID. This notebook assumes you already have a “lease” for a device on CHI@Edge. To get the ID of this lease,\n",
    "\n",
    "-   Vist the CHI@Edge [“reservations” page](https://chi.edge.chameleoncloud.org/project/leases/).\n",
    "-   Click on the lease name.\n",
    "-   On the following page, look for the value next to the word “Id” in the “Lease” section.\n",
    "\n",
    "Fill in the lease ID inside the quotation marks in the following cell, then run the cell."
   ],
   "id": "102976e0-b39a-4afb-b545-cc4f1dd571e9"
  },
  {
   "cell_type": "code",
   "execution_count": null,
   "metadata": {},
   "outputs": [],
   "source": [
    "lease_id =\"xxxxxxxx-xxxx-xxxx-xxxx-xxxxxxxxxxxx\""
   ],
   "id": "8f960975-a323-45e9-aaf5-13529b507086"
  },
  {
   "cell_type": "markdown",
   "metadata": {},
   "source": [
    "Now, we are ready to launch a container!\n",
    "\n",
    "-   **Container** : A container is like a logical “box” that holds everything needed to run an application. It includes the application itself, along with all the necessary prerequisite software, files, and settings it needs to work properly.\n",
    "-   **Image** : An image is like a pre-packaged “starting point” for a container. On CHI@Edge, we can use any image that is built for the ARM64 architecture - e.g. anything on [this list](https://hub.docker.com/search?type=image&architecture=arm64&q=). In this example, we’re going to run a machine learning application written in Python, so we will use the `python:3.9-slim` image as a starting point for our container. This is a lightweight installation of the Debian Linux operating system with Python pre-installed.\n",
    "\n",
    "When we create the container, we could also specify some additional arguments:\n",
    "\n",
    "-   `workdir`: the “working directory” - location in the container’s filesystem from which any commands we specify will run.\n",
    "-   `exposed_ports`: if we run any applications inside the container that need to accept incoming requests from a network, we will need to export a “port” number for those incoming requests. Any requests to that port number will be forwarded to this container.\n",
    "-   `command`: if we want to execute a specific command immediately on starting the container, we can specify that as well.\n",
    "\n",
    "For this particular experiment, we’ll specify that port 22 - which is used for SSH access - should be exposed.\n",
    "\n",
    "Also, since we do not specify a `command` to run, we will further specify `interactive = True` - that it should open an interactive Python session - otherwise the container will immediately stop after it is started, because it has no “work” to do."
   ],
   "id": "b914227d-80b1-49ce-9570-78dff260e550"
  },
  {
   "cell_type": "markdown",
   "metadata": {},
   "source": [
    "First, we’ll specify the name for our container - we’ll include our username and the experiment name in the container name, so that it will be easy to identify our container in the CHI@Edge web interface."
   ],
   "id": "5ae4247b-69bf-4338-a270-28ca59e10695"
  },
  {
   "cell_type": "code",
   "execution_count": null,
   "metadata": {},
   "outputs": [],
   "source": [
    "username = os.environ.get(\"USER\")\n",
    "expname = \"edge-cpu\"\n",
    "# set a name for the container\n",
    "# Note that underscore characters _ are not allowed - we replace each _ with a -\n",
    "container_name = f\"{username}-{expname}\".replace(\"_\",\"-\")"
   ],
   "id": "1b994a0d-685a-472b-bf22-e955d64c64f1"
  },
  {
   "cell_type": "markdown",
   "metadata": {},
   "source": [
    "Then, we can create the container!"
   ],
   "id": "b7277339-8fec-4a52-818f-fb1ba4b8bd95"
  },
  {
   "cell_type": "code",
   "execution_count": null,
   "metadata": {},
   "outputs": [],
   "source": [
    "try:\n",
    "    my_container = container.create_container(\n",
    "        container_name,\n",
    "        image=\"python:3.9-slim\",\n",
    "        reservation_id=lease.get_device_reservation(lease_id),\n",
    "        interactive=True,\n",
    "        exposed_ports=[22],\n",
    "        platform_version=2,\n",
    "    )\n",
    "except RuntimeError as ex:\n",
    "    print(ex)\n",
    "    print(f\"Please stop and/or delete {container_name} and try again\")\n",
    "else:\n",
    "    print(f\"Successfully created container: {container_name}!\")"
   ],
   "id": "6f34812e-8d06-4e83-92eb-7a8e0cfb6e3e"
  },
  {
   "cell_type": "markdown",
   "metadata": {},
   "source": [
    "The next cell waits for the container to be active - when it is, it will print some output related to the container state."
   ],
   "id": "66bda0ec-d333-4e25-941b-3d7814a31780"
  },
  {
   "cell_type": "code",
   "execution_count": null,
   "metadata": {},
   "outputs": [],
   "source": [
    "# wait until container is ready to use\n",
    "container.wait_for_active(my_container.uuid)"
   ],
   "id": "2db278e2-37cc-49db-9768-99fef2a0610a"
  },
  {
   "cell_type": "markdown",
   "metadata": {},
   "source": [
    "Once the container is created, you should be able to see it and monitor its status on the [CHI@Edge web interface](https://chi.edge.chameleoncloud.org/project/container/containers). (If there was any problem while creating the container, you can also delete the container from that interface, in order to be able to try again.)"
   ],
   "id": "9ab54afe-9024-44fb-927f-03201c927b39"
  },
  {
   "cell_type": "markdown",
   "metadata": {},
   "source": [
    "## Attach an address and access your container over SSH"
   ],
   "id": "b261e9a5-7769-4521-a06d-e5a6c681731f"
  },
  {
   "cell_type": "markdown",
   "metadata": {},
   "source": [
    "Just as with a conventional “server” on Chameleon, we can attach an address to our container, then use SSH to access its terminal.\n",
    "\n",
    "First, we’ll attach an address:"
   ],
   "id": "2b440bc7-5c7e-4200-a5ff-77bf8a9ce04e"
  },
  {
   "cell_type": "code",
   "execution_count": null,
   "metadata": {},
   "outputs": [],
   "source": [
    "public_ip = container.associate_floating_ip(my_container.uuid)"
   ],
   "id": "13a486c3-a9e2-460b-8844-cf54b4668369"
  },
  {
   "cell_type": "markdown",
   "metadata": {},
   "source": [
    "Then, we need to install an SSH server on the container - it is not pre-installed on the image we selected. We can use the `container.execute()` function to run commands inside the container, in order to install the SSH server."
   ],
   "id": "2f2107a9-4d6a-49ad-90e3-3d6ec51eb4e0"
  },
  {
   "cell_type": "code",
   "execution_count": null,
   "metadata": {},
   "outputs": [],
   "source": [
    "container.execute(my_container.uuid, 'apt update')\n",
    "container.execute(my_container.uuid, 'apt -y install openssh-server')"
   ],
   "id": "e246b71e-c073-472d-93aa-fbd5c355596d"
  },
  {
   "cell_type": "markdown",
   "metadata": {},
   "source": [
    "There is one more necessary step before we can access the container over SSH - we need to make sure our key is installed on the container. Here, we will upload the key from the Jupyter environment, and make sure it is configured with the appropriate file permissions:"
   ],
   "id": "76ef5e69-5fbe-4351-b898-057ca71f3ea7"
  },
  {
   "cell_type": "code",
   "execution_count": null,
   "metadata": {},
   "outputs": [],
   "source": [
    "!mkdir -p tmp_keys\n",
    "!cp /work/.ssh/id_rsa.pub tmp_keys/authorized_keys"
   ],
   "id": "ca83fea7-c779-416a-abb4-d9bac6a31694"
  },
  {
   "cell_type": "code",
   "execution_count": null,
   "metadata": {},
   "outputs": [],
   "source": [
    "container.execute(my_container.uuid, 'mkdir -p /root/.ssh')\n",
    "container.upload(my_container.uuid, \"./tmp_keys\", \"/root/.ssh\")\n",
    "container.execute(my_container.uuid, 'chown root /root/.ssh')\n",
    "container.execute(my_container.uuid, 'chown root /root/.ssh/authorized_keys')\n",
    "container.execute(my_container.uuid, 'chmod go-w /root')\n",
    "container.execute(my_container.uuid, 'chmod 700 /root/.ssh')\n",
    "container.execute(my_container.uuid, 'chmod 600 /root/.ssh/authorized_keys')"
   ],
   "id": "080fa969-78cf-416c-a707-7c589b937ef6"
  },
  {
   "cell_type": "markdown",
   "metadata": {},
   "source": [
    "Start the SSH server in the container. The following cell should print “sshd is running”. It it’s not running, it can be an indication that the SSH server was not fully installed; wait a minute or two and then try this cell again:"
   ],
   "id": "da05414a-b1d2-4191-bc1f-8ec7574ff2c8"
  },
  {
   "cell_type": "code",
   "execution_count": null,
   "metadata": {},
   "outputs": [],
   "source": [
    "container.execute(my_container.uuid, 'service ssh start')\n",
    "container.execute(my_container.uuid, 'service ssh status')"
   ],
   "id": "32b79d2b-1cd8-4209-847f-67350cf62443"
  },
  {
   "cell_type": "markdown",
   "metadata": {},
   "source": [
    "Now we can open a terminal in the Jupyter interface to access the container over SSH, using the SSH command that is printed by the following cell:"
   ],
   "id": "30032c6f-b188-4614-8769-a64ae314d3b6"
  },
  {
   "cell_type": "code",
   "execution_count": null,
   "metadata": {},
   "outputs": [],
   "source": [
    "print(\"ssh root@%s\" % public_ip)"
   ],
   "id": "c473dee6-a59f-4a41-996f-a1a3091b3f16"
  },
  {
   "cell_type": "markdown",
   "metadata": {},
   "source": [
    "## Transfering files to the container\n",
    "\n",
    "Later in this notebook, we’ll run an image classification model - a model that accepts an image as input and “predicts” the name of the object in the image - inside the container. To do this, we’ll need to upload some files to the container:\n",
    "\n",
    "-   an already-trained model\n",
    "-   a list of labels - this maps the integer values “predicted” by the model to human readable object names\n",
    "-   a sample image\n",
    "-   and Python code to load the model and make a prediction on the image\n",
    "\n",
    "These are all contained in the `image_model` directory. We can upload them to the container using the `container.upload` function, and specify the source directory (in the Jupyter environment) and destination directory (on the container)."
   ],
   "id": "cf402040-d645-43b3-b0fe-cc4a752615f6"
  },
  {
   "cell_type": "code",
   "execution_count": null,
   "metadata": {},
   "outputs": [],
   "source": [
    "container.execute(my_container.uuid, 'mkdir -p /root/image_model')\n",
    "container.upload(my_container.uuid, \"./image_model\", \"/root/image_model\")"
   ],
   "id": "dd3b5594-6da6-4f10-8075-fc770af08991"
  },
  {
   "cell_type": "markdown",
   "metadata": {},
   "source": [
    "## Use a pre-trained image classification model to do inference\n",
    "\n",
    "Now, we can use the model we uploaded to the container, and do inference - make a prediction - *on* the container.\n",
    "\n",
    "In this example, we will use a machine learning model that is specifically designed for inference on resource-constrained edge devices. In general, there are several strategies to reduce inference time on edge devices:\n",
    "\n",
    "-   **Model design**: models meant for inference on edge devices are often designed specifically to reduce memory and/or inference time. The model in this example is a MobileNet, which like many image classification models uses a *convolution* operation to process its input, but MobileNets use a kind of convolution that is much faster and requires fewer operations than a “standard” convolution.\n",
    "-   **Model Compression**: another approach to faster inference on edge devices is model compression, a group of techniques that try to reduce the size of the model without affecting its accuracy. The model in this example is a quantized model, which means that the numeric parameters in the model are represented using fewer bits than in a “standard” model. These quantized parameters can also be processed using faster mathematical operations, potentially improving the inference time.\n",
    "-   **Hardware Acceleration**: a third popular technique to improving inference time at the edge is with hardware acceleration - using specialized computer chips, GPUs, or TPUs that can perform the operations involved in inference very fast. In this example, though, we are going to use CPU-based inference, which means that there is no hardware acceleration.\n",
    "\n",
    "------------------------------------------------------------------------\n",
    "\n",
    "> For more information about these strategies, see: J. Chen and X. Ran, “Deep Learning With Edge Computing: A Review,” in Proceedings of the IEEE, vol. 107, no. 8, pp. 1655-1674, Aug. 2019, doi: 10.1109/JPROC.2019.2921977. https://ieeexplore.ieee.org/document/8763885"
   ],
   "id": "24171884-fa16-497d-8d54-657b3a0c6dbe"
  },
  {
   "cell_type": "markdown",
   "metadata": {},
   "source": [
    "First, we need to install a couple of Python libraries in the container:\n",
    "\n",
    "-   `tflite` is a library specifically designed for machine learning inference on edge devices.\n",
    "-   `Pillow` is used for image processing."
   ],
   "id": "ba2c3b6c-83f8-4985-9d56-bb4c73a55d67"
  },
  {
   "cell_type": "code",
   "execution_count": null,
   "metadata": {},
   "outputs": [],
   "source": [
    "container.execute(my_container.uuid, 'pip install tflite-runtime Pillow')"
   ],
   "id": "b04e46d6-8aa0-4d67-aca9-6a3ee6178e60"
  },
  {
   "cell_type": "markdown",
   "metadata": {},
   "source": [
    "Then, we can execute the machine learning model! We will ask it to make a prediction for the following image:"
   ],
   "id": "bd0010e2-0241-4741-813e-189b554ad23a"
  },
  {
   "cell_type": "code",
   "execution_count": null,
   "metadata": {},
   "outputs": [],
   "source": [
    "from IPython.display import Image\n",
    "Image('image_model/parrot.jpg') "
   ],
   "id": "9484b0df-95e6-4ede-855b-7cca25e54c5c"
  },
  {
   "cell_type": "code",
   "execution_count": null,
   "metadata": {},
   "outputs": [],
   "source": [
    "result = container.execute(my_container.uuid, 'python /root/image_model/model.py mobilenet_v2_1.0_224_quantized_1_default_1.tflite parrot.jpg imagenet_labels.txt')\n",
    "print(result['output'])"
   ],
   "id": "31b1b344-d75e-493a-b5b7-1dd85747ea04"
  },
  {
   "cell_type": "markdown",
   "metadata": {},
   "source": [
    "Make a note of the time it took to generate the prediction - would this inference time be acceptable for all applications? Also make a note of the model’s three best “guesses” regarding the label of the image - is the prediction accurate?"
   ],
   "id": "4c9b3d61-b45b-4437-a24c-32843cb89786"
  },
  {
   "cell_type": "markdown",
   "metadata": {},
   "source": [
    "## Delete the container\n",
    "\n",
    "Finally, we should stop and delete our container so that others can create new containers using the same lease. To delete our container, we can run the following cell:"
   ],
   "id": "1cf813ac-3c88-4c2b-ad07-f79e998fac72"
  },
  {
   "cell_type": "code",
   "execution_count": null,
   "metadata": {},
   "outputs": [],
   "source": [
    "container.destroy_container(my_container.uuid)"
   ],
   "id": "09db226d-7367-4cb1-b7e3-c93b9556a428"
  },
  {
   "cell_type": "markdown",
   "metadata": {},
   "source": [
    "Also free up the IP that you we attached to the container, now that it is no longer in use:"
   ],
   "id": "7b5181ec-914e-4ed3-8bdb-d0789d662a42"
  },
  {
   "cell_type": "code",
   "execution_count": null,
   "metadata": {},
   "outputs": [],
   "source": [
    "ip_details = chi.network.get_floating_ip(public_ip)\n",
    "chi.neutron().delete_floatingip(ip_details[\"id\"])"
   ],
   "id": "d45800ff-59d5-4d97-b8ef-f30e521ec9f7"
  }
 ],
 "nbformat": 4,
 "nbformat_minor": 5,
 "metadata": {}
}
