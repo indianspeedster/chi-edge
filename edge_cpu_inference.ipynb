{
 "cells": [
  {
   "cell_type": "markdown",
   "metadata": {},
   "source": [
    "# Using edge devices for CPU-based inference"
   ],
   "id": "41ce9f9e-c276-4667-b714-daf500e1bc17"
  },
  {
   "cell_type": "markdown",
   "metadata": {},
   "source": [
    "Machine learning models are most often trained in the “cloud”, on powerful centralized servers with specialized resources (like GPU acceleration) for training machine learning models.\n",
    "\n",
    "However, for a variety of reasons including privacy, latency, and network connectivity or bandwidth constraints, it is often preferable to *use* these models (i.e. do inference) at “edge” devices located wherever the input data is/where the model’s prediction is going to be used.\n",
    "\n",
    "These edge devices are less powerful and typically lack any special acceleration, so the inference time (the time from when the input is fed to the model, until the model outputs its prediction) may not be as fast as it would be on a cloud server - but we avoid having to send the input data to the cloud and then sending the prediction back."
   ],
   "id": "78497385-54e9-4f2b-a3b1-f32c510c7106"
  },
  {
   "cell_type": "markdown",
   "metadata": {},
   "source": [
    "This notebook assumes you already have a “lease” available for a Raspberry Pi device on the CHI@Edge testbed. Then, it will show you how to:\n",
    "\n",
    "-   launch a “container” on that device\n",
    "-   attach an IP address to the container, so that you can access it over SSH\n",
    "-   transfer files to and from the container\n",
    "-   use a pre-trained image classification model to do inference on the edge device\n",
    "-   delete the container"
   ],
   "id": "ec93e41a-7ad5-4511-89fe-a3589d0ae525"
  },
  {
   "cell_type": "markdown",
   "metadata": {},
   "source": [
    "## Launch a container on an edge device\n",
    "\n",
    "We will start by preparing our environment in this notebook, then launching a container on an edge device using our pre-existing lease."
   ],
   "id": "de9b98e2-d4a2-4b70-8037-083a862825b7"
  },
  {
   "cell_type": "markdown",
   "metadata": {},
   "source": [
    "First, we load some required libraries:"
   ],
   "id": "7206c0c5-60cf-4aba-a426-98c13d2dde2c"
  },
  {
   "cell_type": "code",
   "execution_count": null,
   "metadata": {},
   "outputs": [],
   "source": [
    "import chi\n",
    "from chi import container\n",
    "from chi import lease\n",
    "import datetime\n",
    "import os"
   ],
   "id": "f28902da-7580-4089-a6aa-1e2a358243a9"
  },
  {
   "cell_type": "markdown",
   "metadata": {},
   "source": [
    "We indicate that we’re going to use the CHI@Edge site. We also need to specify the name of the Chameleon “project” that this experiment is part of. The project name will have the format “CHI-XXXXXX”, where the last part is a 6-digit number, and you can find it on your [user dashboard](https://chameleoncloud.org/user/dashboard/).\n",
    "\n",
    "In the cell below, replace the project ID with your *own* project ID, then run the cell."
   ],
   "id": "56d35017-40dd-428f-8fdb-c822a26ef126"
  },
  {
   "cell_type": "code",
   "execution_count": null,
   "metadata": {},
   "outputs": [],
   "source": [
    "chi.use_site(\"CHI@Edge\")\n",
    "chi.set(\"project_name\", \"CHI-XXXXXX\")"
   ],
   "id": "75191946-6e36-46aa-8e7a-ed5861f2790c"
  },
  {
   "cell_type": "markdown",
   "metadata": {},
   "source": [
    "Next, we’ll specify the lease ID. This notebook assumes you already have a “least” for a Raspberry Pi device on CHI@Edge. To get the ID of this lease,\n",
    "\n",
    "-   Vist the CHI@Edge [“reservations” page](https://chi.edge.chameleoncloud.org/project/leases/).\n",
    "-   Click on the lease name.\n",
    "-   On the following page, look for the value next to the word “Id” in the “Lease” section.\n",
    "\n",
    "Fill in the lease ID inside the quotation marks in the following cell, then run the cell."
   ],
   "id": "b8fab02b-87bc-49c7-90b6-49d823f2562b"
  },
  {
   "cell_type": "code",
   "execution_count": null,
   "metadata": {},
   "outputs": [],
   "source": [
    "lease_id =\"xxxxxxxx-xxxx-xxxx-xxxx-xxxxxxxxxxxx\""
   ],
   "id": "87ef28de-5b1c-426a-9790-87ff65b35e0c"
  },
  {
   "cell_type": "markdown",
   "metadata": {},
   "source": [
    "Now, we are ready to launch a container!\n",
    "\n",
    "-   **Container** : A container is like a logical “box” that holds everything needed to run an application. It includes the application itself, along with all the necessary prerequisite software, files, and settings it needs to work properly.\n",
    "-   **Image** : An image is like a pre-packaged “starting point” for a container. In this example, we’re going to run a machine learning application written in Python, so we will use the `python:3.9-slim` image as a starting point for our container. This is a lightweight installation of the Debian Linux operating system with Python pre-installed.\n",
    "\n",
    "When we create the container, we could also specify some additional arguments:\n",
    "\n",
    "-   `workdir`: the “working directory” - location in the container’s filesystem from which any commands we specify will run.\n",
    "-   `exposed_ports`: if we run any applications inside the container that need to accept incoming requests from a network, we will need to export a “port” number for those incoming requests. Any requests to that port number will be forwarded to this container.\n",
    "-   `command`: if we want to execute a specific command immediately on starting the container, we can specify that as well.\n",
    "\n",
    "but, we won’t need to specify these for this particular experiment."
   ],
   "id": "2d6e456c-3bc2-4bad-92c4-4c9f8ccb9308"
  },
  {
   "cell_type": "markdown",
   "metadata": {},
   "source": [
    "First, we’ll specify the name for our container - we’ll include our username and the experiment name in the container name, so that it will be easy to identify our container in the CHI@Edge web interface."
   ],
   "id": "8b900b23-854e-4e13-bddf-190ed89582ac"
  },
  {
   "cell_type": "code",
   "execution_count": null,
   "metadata": {},
   "outputs": [],
   "source": [
    "username = os.environ.get(\"USER\")\n",
    "expname = \"edge-cpu\"\n",
    "# set a name for the container\n",
    "# Note that underscore characters _ are not allowed - we replace each _ with a -\n",
    "container_name = f\"{username}-{expname}\".replace(\"_\",\"-\")"
   ],
   "id": "14ab3060-978a-41a9-a786-2ee84bff62ae"
  },
  {
   "cell_type": "markdown",
   "metadata": {},
   "source": [
    "Then, we can create the container!"
   ],
   "id": "7585c612-d215-44d7-b15e-733c0cc2ad8d"
  },
  {
   "cell_type": "code",
   "execution_count": null,
   "metadata": {},
   "outputs": [],
   "source": [
    "try:\n",
    "    my_container = container.create_container(\n",
    "        container_name,\n",
    "        image=\"python:3.9-slim\",\n",
    "        reservation_id=lease.get_device_reservation(lease_id),\n",
    "        platform_version=2,\n",
    "    )\n",
    "except RuntimeError as ex:\n",
    "    print(ex)\n",
    "    print(f\"Please stop and/or delete {container_name} and try again\")\n",
    "else:\n",
    "    print(f\"Successfully created container: {container_name}!\")"
   ],
   "id": "5e4cc3a9-4517-42cf-81aa-166203d437f1"
  },
  {
   "cell_type": "markdown",
   "metadata": {},
   "source": [
    "Once the container is created, you should be able to see it and monitor its status on the [CHI@Edge web interface](https://chi.edge.chameleoncloud.org/project/container/containers). (If there was any problem while creating the container, you can also forcefully delete the container from the interface, in order to be able to try again.)"
   ],
   "id": "eedca6d4-9688-4b9e-a5c4-95acc279ed27"
  },
  {
   "cell_type": "markdown",
   "metadata": {},
   "source": [
    "### Interacting with the container\n",
    "\n",
    "Just like you ssh into a virtual machine and access that machine, you also can access the container by running terminal commands via container.execute() function."
   ],
   "id": "eb4da178-1803-43bb-9f3a-71110152f27f"
  },
  {
   "cell_type": "code",
   "execution_count": null,
   "metadata": {},
   "outputs": [
    {
     "output_type": "stream",
     "name": "stdout",
     "text": [
      "echo Hello\n",
      "Hello"
     ]
    }
   ],
   "source": [
    "cmd = 'echo Hello'\n",
    "print(cmd)\n",
    "\n",
    "print(container.execute(my_container.uuid, cmd)[\"output\"])"
   ],
   "id": "7399ccf6-cf8e-4b1a-97db-55c5291ee6bf"
  },
  {
   "cell_type": "markdown",
   "metadata": {},
   "source": [
    "### Attaching a public ip address to the container\n",
    "\n",
    "When you assign a public IP address, any exposed ports on your container can be reached over the public internet."
   ],
   "id": "7be3a0ae-4c27-4cf3-9e90-408445dfe762"
  },
  {
   "cell_type": "code",
   "execution_count": null,
   "metadata": {},
   "outputs": [
    {
     "output_type": "stream",
     "name": "stdout",
     "text": [
      "129.114.34.182"
     ]
    }
   ],
   "source": [
    "public_ip = container.associate_floating_ip(my_container.uuid)\n",
    "\n",
    "print(public_ip)"
   ],
   "id": "f963174c-3815-4045-ad27-41b49eeb16bb"
  },
  {
   "cell_type": "markdown",
   "metadata": {},
   "source": [
    "### Transfering files to and from the container\n",
    "\n",
    "-   To upload files to container we use `container.upload(container_ref: 'str', source: 'str', dest: 'str')` function.\n",
    "-   to download files from container to our local we use `container.download(container_ref: 'str', source: 'str', dest: 'str')` function."
   ],
   "id": "c606fef8-94bd-4e80-82ff-3723e9838cd4"
  },
  {
   "cell_type": "code",
   "execution_count": null,
   "metadata": {},
   "outputs": [
    {
     "output_type": "stream",
     "name": "stdout",
     "text": [
      "Files uploaded!"
     ]
    }
   ],
   "source": [
    "container.upload(my_container.uuid, \"./python_code\", \"/var/www/html\")\n",
    "#The code will be uploading some files which we will be going to use for our american sign language classification model\n",
    "print(\"Files uploaded!\")"
   ],
   "id": "d6ee5900-07e3-4110-b7d9-3403be2ccfec"
  },
  {
   "cell_type": "markdown",
   "metadata": {},
   "source": [
    "## Creating an image classification model using tflite\n",
    "\n",
    "The folder which we previously uploaded contains:\n",
    "\n",
    "-   model.py (The python file which contains all the code to run the model)\n",
    "-   model.tflite (The tensorflow lite machine learning model for edge devices)\n",
    "-   image.png (This image which is going to be used to make prediction)\n",
    "-   Requirments.txt (Requirements file which is used to install all the requirements for our machine learning model)"
   ],
   "id": "2d7786a5-a8ce-450d-a430-28f54fcbd479"
  },
  {
   "cell_type": "markdown",
   "metadata": {},
   "source": [
    "### Installing the required libraries\n",
    "\n",
    "We will be installing some of the libraries that we are going to need for our ml model."
   ],
   "id": "8ab16f99-6fb3-4309-b0d4-e803b5897137"
  },
  {
   "cell_type": "code",
   "execution_count": null,
   "metadata": {},
   "outputs": [
    {
     "output_type": "stream",
     "name": "stdout",
     "text": [
      "pip install -r requirements.txt\n",
      "Requirement already satisfied: numpy in /usr/local/lib/python3.8/site-packages (from -r requirements.txt (line 1)) (1.24.4)\n",
      "Requirement already satisfied: tflite-runtime in /usr/local/lib/python3.8/site-packages (from -r requirements.txt (line 2)) (2.13.0)\n",
      "Requirement already satisfied: pillow in /usr/local/lib/python3.8/site-packages (from -r requirements.txt (line 3)) (10.0.0)"
     ]
    }
   ],
   "source": [
    "cmd = \"pip install -r requirements.txt\"\n",
    "print(cmd)\n",
    "print(container.execute(my_container.uuid, cmd)[\"output\"])"
   ],
   "id": "8969e0f8-fdc0-487a-9a48-1bef283755ae"
  },
  {
   "cell_type": "code",
   "execution_count": null,
   "metadata": {},
   "outputs": [
    {
     "output_type": "stream",
     "name": "stdout",
     "text": [
      "pip list\n",
      "Package        Version\n",
      "-------------- -------\n",
      "numpy          1.24.4\n",
      "Pillow         10.0.0\n",
      "pip            23.0.1\n",
      "setuptools     57.5.0\n",
      "tflite-runtime 2.13.0\n",
      "wheel          0.40.0\n",
      "\n",
      "[notice] A new release of pip is available: 23.0.1 -> 23.1.2\n",
      "[notice] To update, run: pip install --upgrade pip"
     ]
    }
   ],
   "source": [
    "cmd = \"pip list\"\n",
    "print(cmd)\n",
    "print(container.execute(my_container.uuid, cmd)[\"output\"])"
   ],
   "id": "273da634-881a-47af-84f6-2e51c71f0716"
  },
  {
   "cell_type": "markdown",
   "metadata": {},
   "source": [
    "### Running the model"
   ],
   "id": "009e9968-6b36-4fbd-bca9-53d1f8d7397d"
  },
  {
   "cell_type": "code",
   "execution_count": null,
   "metadata": {},
   "outputs": [
    {
     "output_type": "stream",
     "name": "stdout",
     "text": [
      "python model.py\n",
      "0.580392: fig\n",
      "0.568627: Granny Smith\n",
      "0.549020: spaghetti squash"
     ]
    }
   ],
   "source": [
    "cmd = \"python model.py\"\n",
    "print(cmd)\n",
    "print(container.execute(my_container.uuid, cmd)[\"output\"])"
   ],
   "id": "c673ce9d-2a53-4b59-bf4b-ab4a4b755d1f"
  },
  {
   "cell_type": "code",
   "execution_count": null,
   "metadata": {},
   "outputs": [],
   "source": [],
   "id": "fb638376-0638-40b7-812a-c0db7b5c91c2"
  }
 ],
 "nbformat": 4,
 "nbformat_minor": 5,
 "metadata": {}
}
