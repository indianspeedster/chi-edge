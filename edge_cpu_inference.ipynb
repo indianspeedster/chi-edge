{
 "cells": [
  {
   "cell_type": "markdown",
   "metadata": {},
   "source": [
    "# Using edge devices for CPU-based inference"
   ],
   "id": "fb01c228-811a-4ec6-92f6-cbeeb720ff8b"
  },
  {
   "cell_type": "markdown",
   "metadata": {},
   "source": [
    "Machine learning models are most often trained in the “cloud”, on powerful centralized servers with specialized resources (like GPU acceleration) for training machine learning models.\n",
    "\n",
    "However, for a variety of reasons including privacy, latency, and network connectivity or bandwidth constraints, it is often preferable to *use* these models (i.e. do inference) at “edge” devices located wherever the input data is/where the model’s prediction is going to be used.\n",
    "\n",
    "These edge devices are less powerful and typically lack any special acceleration, so the inference time (the time from when the input is fed to the model, until the model outputs its prediction) may not be as fast as it would be on a cloud server - but we avoid having to send the input data to the cloud and then sending the prediction back."
   ],
   "id": "45d37a6a-b889-4860-8aa6-4c669ab41a05"
  },
  {
   "cell_type": "markdown",
   "metadata": {},
   "source": [
    "This notebook assumes you already have a “lease” available for a device on the CHI@Edge testbed. Then, it will show you how to:\n",
    "\n",
    "-   launch a “container” on that device\n",
    "-   attach an IP address to the container, so that you can access it over SSH\n",
    "-   transfer files to and from the container\n",
    "-   use a pre-trained image classification model to do inference on the edge device\n",
    "-   delete the container"
   ],
   "id": "90f7d91a-8c1e-43bf-92bf-00a1d5eb7373"
  },
  {
   "cell_type": "markdown",
   "metadata": {},
   "source": [
    "## Launch a container on an edge device\n",
    "\n",
    "We will start by preparing our environment in this notebook, then launching a container on an edge device using our pre-existing lease."
   ],
   "id": "89983dc0-67b8-451c-8bde-891dc60a49ee"
  },
  {
   "cell_type": "markdown",
   "metadata": {},
   "source": [
    "First, we load some required libraries:"
   ],
   "id": "1f8f69cd-3e88-405b-b4ad-cc76c471f7d4"
  },
  {
   "cell_type": "code",
   "execution_count": null,
   "metadata": {},
   "outputs": [],
   "source": [
    "import chi\n",
    "from chi import container\n",
    "from chi import lease\n",
    "import datetime\n",
    "import os"
   ],
   "id": "c3a3d980-2d11-478e-a609-ff0b7a038a1d"
  },
  {
   "cell_type": "markdown",
   "metadata": {},
   "source": [
    "We indicate that we’re going to use the CHI@Edge site. We also need to specify the name of the Chameleon “project” that this experiment is part of. The project name will have the format “CHI-XXXXXX”, where the last part is a 6-digit number, and you can find it on your [user dashboard](https://chameleoncloud.org/user/dashboard/).\n",
    "\n",
    "In the cell below, replace the project ID with your *own* project ID, then run the cell."
   ],
   "id": "bced2b27-faec-4249-a2a2-560e63f59cc1"
  },
  {
   "cell_type": "code",
   "execution_count": null,
   "metadata": {},
   "outputs": [],
   "source": [
    "chi.use_site(\"CHI@Edge\")\n",
    "chi.set(\"project_name\", \"CHI-XXXXXX\")"
   ],
   "id": "8fa60054-7d26-47d5-8e36-2430c211c3b1"
  },
  {
   "cell_type": "markdown",
   "metadata": {},
   "source": [
    "Next, we’ll specify the lease ID. This notebook assumes you already have a “lease” for a device on CHI@Edge. To get the ID of this lease,\n",
    "\n",
    "-   Vist the CHI@Edge [“reservations” page](https://chi.edge.chameleoncloud.org/project/leases/).\n",
    "-   Click on the lease name.\n",
    "-   On the following page, look for the value next to the word “Id” in the “Lease” section.\n",
    "\n",
    "Fill in the lease ID inside the quotation marks in the following cell, then run the cell."
   ],
   "id": "e5606203-ce6f-4176-b64d-3ef1ab10d11e"
  },
  {
   "cell_type": "code",
   "execution_count": null,
   "metadata": {},
   "outputs": [],
   "source": [
    "lease_id =\"xxxxxxxx-xxxx-xxxx-xxxx-xxxxxxxxxxxx\""
   ],
   "id": "be96e49a-e6e5-439d-b4ee-f6ba02819af9"
  },
  {
   "cell_type": "markdown",
   "metadata": {},
   "source": [
    "Now, we are ready to launch a container!\n",
    "\n",
    "-   **Container** : A container is like a logical “box” that holds everything needed to run an application. It includes the application itself, along with all the necessary prerequisite software, files, and settings it needs to work properly.\n",
    "-   **Image** : An image is like a pre-packaged “starting point” for a container. In this example, we’re going to run a machine learning application written in Python, so we will use the `python:3.9-slim` image as a starting point for our container. This is a lightweight installation of the Debian Linux operating system with Python pre-installed.\n",
    "\n",
    "When we create the container, we could also specify some additional arguments:\n",
    "\n",
    "-   `workdir`: the “working directory” - location in the container’s filesystem from which any commands we specify will run.\n",
    "-   `exposed_ports`: if we run any applications inside the container that need to accept incoming requests from a network, we will need to export a “port” number for those incoming requests. Any requests to that port number will be forwarded to this container.\n",
    "-   `command`: if we want to execute a specific command immediately on starting the container, we can specify that as well.\n",
    "\n",
    "For this particular experiment, we’ll specify that port 22 - which is used for SSH access - should be exposed.\n",
    "\n",
    "Also, since we do not specify a `command` to run, we will further specify `interactive = True` - that it should open an interactive Python session - otherwise the container will immediately stop after it is started, because it has no “work” to do."
   ],
   "id": "316dcd19-ddf6-4fb7-b1a4-dc7ed698810a"
  },
  {
   "cell_type": "markdown",
   "metadata": {},
   "source": [
    "First, we’ll specify the name for our container - we’ll include our username and the experiment name in the container name, so that it will be easy to identify our container in the CHI@Edge web interface."
   ],
   "id": "b92e4212-15d1-416d-8245-92caa2336406"
  },
  {
   "cell_type": "code",
   "execution_count": null,
   "metadata": {},
   "outputs": [],
   "source": [
    "username = os.environ.get(\"USER\")\n",
    "expname = \"edge-cpu\"\n",
    "# set a name for the container\n",
    "# Note that underscore characters _ are not allowed - we replace each _ with a -\n",
    "container_name = f\"{username}-{expname}\".replace(\"_\",\"-\")"
   ],
   "id": "e99025b4-f6b0-4ee0-a275-a5863a8f58a6"
  },
  {
   "cell_type": "markdown",
   "metadata": {},
   "source": [
    "Then, we can create the container!"
   ],
   "id": "1474841f-784b-45c4-a4ab-f3cdd8f7d7f5"
  },
  {
   "cell_type": "code",
   "execution_count": null,
   "metadata": {},
   "outputs": [],
   "source": [
    "try:\n",
    "    my_container = container.create_container(\n",
    "        container_name,\n",
    "        image=\"python:3.9-slim\",\n",
    "        reservation_id=lease.get_device_reservation(lease_id),\n",
    "        interactive=True,\n",
    "        exposed_ports=[22],\n",
    "        platform_version=2,\n",
    "    )\n",
    "except RuntimeError as ex:\n",
    "    print(ex)\n",
    "    print(f\"Please stop and/or delete {container_name} and try again\")\n",
    "else:\n",
    "    print(f\"Successfully created container: {container_name}!\")"
   ],
   "id": "6123d40c-f764-4fec-9159-6191f94b934d"
  },
  {
   "cell_type": "markdown",
   "metadata": {},
   "source": [
    "The next cell waits for the container to be active - when it is, it will print some output related to the container state."
   ],
   "id": "daf41da1-255e-4a3c-a643-be4929d77341"
  },
  {
   "cell_type": "code",
   "execution_count": null,
   "metadata": {},
   "outputs": [],
   "source": [
    "# wait until container is ready to use\n",
    "container.wait_for_active(my_container.uuid)"
   ],
   "id": "63a6cdf2-75bb-49c0-905a-de953b981009"
  },
  {
   "cell_type": "markdown",
   "metadata": {},
   "source": [
    "Once the container is created, you should be able to see it and monitor its status on the [CHI@Edge web interface](https://chi.edge.chameleoncloud.org/project/container/containers). (If there was any problem while creating the container, you can also delete the container from that interface, in order to be able to try again.)"
   ],
   "id": "95613045-0b4f-419a-adff-4e3669e024b5"
  },
  {
   "cell_type": "markdown",
   "metadata": {},
   "source": [
    "## Attach an address and access your container over SSH"
   ],
   "id": "84ce4e57-0997-4789-bffb-d7eb16b4e0c4"
  },
  {
   "cell_type": "markdown",
   "metadata": {},
   "source": [
    "Just as with a conventional “server” on Chameleon, we can attach an address to our container, then use SSH to access its terminal.\n",
    "\n",
    "First, we’ll attach an address:"
   ],
   "id": "539b4c4d-d5e8-4ef3-854d-2b371a5a2064"
  },
  {
   "cell_type": "code",
   "execution_count": null,
   "metadata": {},
   "outputs": [],
   "source": [
    "public_ip = container.associate_floating_ip(my_container.uuid)"
   ],
   "id": "956f71da-26e2-4a7b-b4e9-1680c52db3cb"
  },
  {
   "cell_type": "markdown",
   "metadata": {},
   "source": [
    "Then, we need to install an SSH server on the container - it is not pre-installed on the image we selected. We can use the `container.execute()` function to run commands inside the container, in order to install the SSH server."
   ],
   "id": "92db88cf-a901-4e27-b9db-184a2d455068"
  },
  {
   "cell_type": "code",
   "execution_count": null,
   "metadata": {},
   "outputs": [],
   "source": [
    "container.execute(my_container.uuid, 'apt update')\n",
    "container.execute(my_container.uuid, 'apt -y install openssh-server')"
   ],
   "id": "d729cad0-4791-4c12-9a9f-a6763697013d"
  },
  {
   "cell_type": "markdown",
   "metadata": {},
   "source": [
    "There is one more necessary step before we can access the container over SSH - we need to make sure our key is installed on the container. Here, we will upload the key from the Jupyter environment, and make sure it is configured with the appropriate file permissions:"
   ],
   "id": "278fd7c4-9100-4bd7-a31b-d1a29df39224"
  },
  {
   "cell_type": "code",
   "execution_count": null,
   "metadata": {},
   "outputs": [],
   "source": [
    "!mkdir -p tmp_keys\n",
    "!cp /work/.ssh/id_rsa.pub tmp_keys/authorized_keys"
   ],
   "id": "823a45ac-f647-41e6-9de7-863b0075c46b"
  },
  {
   "cell_type": "code",
   "execution_count": null,
   "metadata": {},
   "outputs": [],
   "source": [
    "container.execute(my_container.uuid, 'mkdir -p /root/.ssh')\n",
    "container.upload(my_container.uuid, \"./tmp_keys\", \"/root/.ssh\")\n",
    "container.execute(my_container.uuid, 'chown root /root/.ssh')\n",
    "container.execute(my_container.uuid, 'chown root /root/.ssh/authorized_keys')\n",
    "container.execute(my_container.uuid, 'chmod 600 /root/.ssh/authorized_keys')"
   ],
   "id": "ab80387e-d62b-4983-a393-0d32a4846348"
  },
  {
   "cell_type": "markdown",
   "metadata": {},
   "source": [
    "Start the SSH server in the container. The following cell should print “sshd is running”. It it’s not running, it can be an indication that the SSH server was not fully installed; wait a minute or two and then try this cell again:"
   ],
   "id": "77772982-c546-4f2f-91e3-b6cc02f72731"
  },
  {
   "cell_type": "code",
   "execution_count": null,
   "metadata": {},
   "outputs": [],
   "source": [
    "container.execute(my_container.uuid, 'service ssh start')\n",
    "container.execute(my_container.uuid, 'service ssh status')"
   ],
   "id": "acd8a60d-48e4-402b-b266-da8806273118"
  },
  {
   "cell_type": "markdown",
   "metadata": {},
   "source": [
    "Now we can open a terminal in the Jupyter interface to access the container over SSH, using the SSH command that is printed by the following cell:"
   ],
   "id": "86eb0ac2-44aa-4c97-9f9e-192a094c708e"
  },
  {
   "cell_type": "code",
   "execution_count": null,
   "metadata": {},
   "outputs": [],
   "source": [
    "print(\"ssh root@%s\" % public_ip)"
   ],
   "id": "b2a2c5ca-495c-4b3a-b4ef-521756846376"
  },
  {
   "cell_type": "markdown",
   "metadata": {},
   "source": [
    "## Transfering files to the container\n",
    "\n",
    "Later in this notebook, we’ll run an image classification model - a model that accepts an image as input and “predicts” the name of the object in the image - inside the container. To do this, we’ll need to upload some files to the container:\n",
    "\n",
    "-   an already-trained model\n",
    "-   a list of labels - this maps the integer values “predicted” by the model to human readable object names\n",
    "-   a sample image\n",
    "-   and Python code to load the model and make a prediction on the image\n",
    "\n",
    "These are all contained in the `ml_model` directory. We can upload them to the container using the `container.upload` function, and specify the source directory (in the Jupyter environment) and destination directory (on the container)."
   ],
   "id": "45dd0242-77c5-4d0b-bf15-3cd5262af4b8"
  },
  {
   "cell_type": "code",
   "execution_count": null,
   "metadata": {},
   "outputs": [],
   "source": [
    "container.execute(my_container.uuid, 'mkdir -p /root/image_model')\n",
    "container.upload(my_container.uuid, \"./image_model\", \"/root/image_model\")"
   ],
   "id": "3371ba57-1838-47b1-8756-a6ba80cbfc34"
  },
  {
   "cell_type": "markdown",
   "metadata": {},
   "source": [
    "## Use a pre-trained image classification model to do inference\n",
    "\n",
    "Now, we can use the model we uploaded to the container, and do inference - make a prediction - *on* the container.\n",
    "\n",
    "In this example, we will use a machine learning model that is specifically designed for inference on resource-constrained edge devices. In general, there are several strategies to reduce inference time on edge devices:\n",
    "\n",
    "-   **Model design**: models meant for inference on edge devices are often designed specifically to reduce memory and/or inference time. The model in this example is a MobileNet, which like many image classification models uses a *convolution* operation to process its input, but MobileNets use a kind of convolution that is much faster and requires fewer operations than a “standard” convolution.\n",
    "-   **Model Compression**: another approach to faster inference on edge devices is model compression, a group of techniques that try to reduce the size of the model without affecting its accuracy. The model in this example is a quantized model, which means that the numeric parameters in the model are represented using fewer bits than in a “standard” model. These quantized parameters can also be processed using faster mathematical operations, potentially improving the inference time.\n",
    "-   **Hardware Acceleration**: a third popular technique to improving inference time at the edge is with hardware acceleration - using specialized computer chips, GPUs, or TPUs that can perform the operations involved in inference very fast. In this example, though, we are going to use CPU-based inference, which means that there is no hardware acceleration.\n",
    "\n",
    "------------------------------------------------------------------------\n",
    "\n",
    "> For more information about these strategies, see: J. Chen and X. Ran, “Deep Learning With Edge Computing: A Review,” in Proceedings of the IEEE, vol. 107, no. 8, pp. 1655-1674, Aug. 2019, doi: 10.1109/JPROC.2019.2921977. https://ieeexplore.ieee.org/document/8763885"
   ],
   "id": "a8de724c-b58c-4823-bf1b-4306a1127817"
  },
  {
   "cell_type": "markdown",
   "metadata": {},
   "source": [
    "First, we need to install a couple of Python libraries in the container:\n",
    "\n",
    "-   `tflite` is a library specifically designed for machine learning inference on edge devices.\n",
    "-   `Pillow` is used for image processing."
   ],
   "id": "c621efa2-a4cc-443f-b463-55815c92732f"
  },
  {
   "cell_type": "code",
   "execution_count": null,
   "metadata": {},
   "outputs": [],
   "source": [
    "container.execute(my_container.uuid, 'pip install tflite-runtime Pillow')"
   ],
   "id": "2df3d7b1-56ce-4145-8deb-ba68d07fc646"
  },
  {
   "cell_type": "markdown",
   "metadata": {},
   "source": [
    "Then, we can execute the machine learning model! We will ask it to make a prediction for the following image:"
   ],
   "id": "b4f88fb3-5a3b-414f-a963-ba4c6023403e"
  },
  {
   "cell_type": "code",
   "execution_count": null,
   "metadata": {},
   "outputs": [],
   "source": [
    "from IPython.display import Image\n",
    "Image('image_model/parrot.jpg') "
   ],
   "id": "3c28700b-f596-4c1a-8917-88a0e817cc21"
  },
  {
   "cell_type": "code",
   "execution_count": null,
   "metadata": {},
   "outputs": [],
   "source": [
    "result = container.execute(my_container.uuid, 'python /root/image_model/model.py')\n",
    "print(result['output'])"
   ],
   "id": "18d2bdaa-825e-4a31-97fe-744ed0b1cd47"
  },
  {
   "cell_type": "markdown",
   "metadata": {},
   "source": [
    "Make a note of the time it took to generate the prediction - would this inference time be acceptable for all applications? Also make a note of the model’s three best “guesses” regarding the label of the image - is the prediction accurate?"
   ],
   "id": "81bdb378-f14b-4476-8f18-4843eea40163"
  },
  {
   "cell_type": "markdown",
   "metadata": {},
   "source": [
    "## Delete the container\n",
    "\n",
    "Finally, we should stop and delete our container so that others can create new containers using the same lease. To delete our container, we can run the following cell:"
   ],
   "id": "adb72cff-5826-408d-87c7-afe9b46b7058"
  },
  {
   "cell_type": "code",
   "execution_count": null,
   "metadata": {},
   "outputs": [],
   "source": [
    "container.destroy_container(my_container.uuid)"
   ],
   "id": "e119f9b8-423f-4f97-a5c4-bd1b669e396e"
  },
  {
   "cell_type": "markdown",
   "metadata": {},
   "source": [
    "Also free up the IP that you we attached to the container, now that it is no longer in use:"
   ],
   "id": "23aaac03-f54e-4d54-87d1-4e4b30c620b6"
  },
  {
   "cell_type": "code",
   "execution_count": null,
   "metadata": {},
   "outputs": [],
   "source": [
    "ip_details = chi.network.get_floating_ip(reserved_fip)\n",
    "chi.neutron().delete_floatingip(ip_details[\"id\"])"
   ],
   "id": "1fd58062-311a-4d04-bc8c-79bd3173e01f"
  }
 ],
 "nbformat": 4,
 "nbformat_minor": 5,
 "metadata": {}
}
