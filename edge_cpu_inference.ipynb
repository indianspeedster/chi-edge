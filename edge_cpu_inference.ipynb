{
 "cells": [
  {
   "cell_type": "markdown",
   "metadata": {},
   "source": [
    "# Using edge devices for CPU-based inference"
   ],
   "id": "7a343b6f-2b53-42db-b427-9a4aa2103fbd"
  },
  {
   "cell_type": "markdown",
   "metadata": {},
   "source": [
    "Machine learning models are most often trained in the “cloud”, on powerful centralized servers with specialized resources (like GPU acceleration) for training machine learning models.\n",
    "\n",
    "However, for a variety of reasons including privacy, latency, and network connectivity or bandwidth constraints, it is often preferable to *use* these models (i.e. do inference) at “edge” devices located wherever the input data is/where the model’s prediction is going to be used.\n",
    "\n",
    "These edge devices are less powerful and typically lack any special acceleration, so the inference time (the time from when the input is fed to the model, until the model outputs its prediction) may not be as fast as it would be on a cloud server - but we avoid having to send the input data to the cloud and then sending the prediction back."
   ],
   "id": "c94f5a45-9ae3-40f9-ab33-ac6c22c52a55"
  },
  {
   "cell_type": "markdown",
   "metadata": {},
   "source": [
    "This notebook assumes you already have a “lease” available for a Raspberry Pi device on the CHI@Edge testbed. Then, it will show you how to:\n",
    "\n",
    "-   launch a “container” on that device\n",
    "-   attach an IP address to the container, so that you can access it over SSH\n",
    "-   transfer files to and from the container\n",
    "-   use a pre-trained image classification model to do inference on the edge device\n",
    "-   delete the container"
   ],
   "id": "7feb2c9e-ea8d-4599-baf7-552442dc42c5"
  },
  {
   "cell_type": "markdown",
   "metadata": {},
   "source": [
    "## Getting Started"
   ],
   "id": "7ee31cc8-114a-44d3-b806-73b16bcdbc71"
  },
  {
   "cell_type": "markdown",
   "metadata": {},
   "source": [
    "### Loading the Required Libraries"
   ],
   "id": "3d1c893d-007f-4712-b8e2-0280dfaea4da"
  },
  {
   "cell_type": "code",
   "execution_count": null,
   "metadata": {},
   "outputs": [],
   "source": [
    "import chi\n",
    "from chi import container\n",
    "from chi import lease\n",
    "import datetime\n",
    "import os"
   ],
   "id": "5a3c9189-1505-49ef-96a3-8837cd3195e1"
  },
  {
   "cell_type": "markdown",
   "metadata": {},
   "source": [
    "### Setting up some of the environment variables"
   ],
   "id": "9e17d10a-0e3e-4cd2-a73a-33e6b84133dd"
  },
  {
   "cell_type": "code",
   "execution_count": null,
   "metadata": {},
   "outputs": [
    {
     "output_type": "stream",
     "name": "stdout",
     "text": [
      "Now using CHI@Edge:\n",
      "URL: https://chi.edge.chameleoncloud.org\n",
      "Location: University of Chicago, Chicago, Illinois, USA\n",
      "Support contact: help@chameleoncloud.org"
     ]
    }
   ],
   "source": [
    "# Before we go any further, we need to select which Chameleon site we will be using.\n",
    "chi.use_site(\"CHI@Edge\")\n",
    "#You can find your project ID on the user dashboard here: https://chameleoncloud.org/user/dashboard/\n",
    "chi.set(\"project_name\", \"CHI-231095\")"
   ],
   "id": "e8f26b8d-e8b2-465e-8c0a-30058356f0a0"
  },
  {
   "cell_type": "markdown",
   "metadata": {},
   "source": [
    "### Creating a lease for the edge device\n",
    "\n",
    "View the host calendar to check availability <https://chi.edge.chameleoncloud.org/project/leases/calendar/device/>"
   ],
   "id": "fae00bc7-7da3-4dc0-a1eb-b720037fe68d"
  },
  {
   "cell_type": "code",
   "execution_count": null,
   "metadata": {},
   "outputs": [],
   "source": [
    "# get your username, this will be used to make the lease identifiable for you.\n",
    "username = os.environ.get(\"USER\")\n",
    "\n",
    "# machine name refers to the \"type\" of device\n",
    "device_name = \"iot-rpi-cm4-02\"\n",
    "\n",
    "# these are start and end dates for the lease\n",
    "start_date, end_date = lease.lease_duration(days=2)\n",
    "exp_start_time = datetime.datetime.now().strftime(\"%Y%_m_%d_%H_%M_%S\")\n",
    "\n",
    "lease_name = f\"{username}-{device_name}-{exp_start_time}\"\n",
    "\n",
    "reservations = []\n",
    "lease.add_device_reservation(reservations, count=1, device_name = device_name )\n",
    "container_lease = lease.create_lease(lease_name, reservations)\n",
    "lease_id = container_lease[\"id\"]\n",
    "\n",
    "print(f\"Reservation made with name {lease_name} and uuid {lease_id}\")\n",
    "print(\"waiting for lease to start. This usually takes close to a minute.\")\n",
    "lease.wait_for_active(lease_id)\n",
    "print(\"Lease successfully created\")"
   ],
   "id": "31b79612-a719-4deb-8b8b-e3c22e950b98"
  },
  {
   "cell_type": "markdown",
   "metadata": {},
   "source": [
    "### Launching the first Container\n",
    "\n",
    "-   **Container** : A container is like a virtual box that holds everything needed to run a computer program. It includes the program itself, along with all the necessary files and settings it needs to work properly. Containers make it easy to move programs from one computer to another without any problems. Containers can be easily created and destroyed which we will see in coming steps\n",
    "\n",
    "-   **Image** : image is a self-contained package that contains all the necessary components to create and run a containerized program. It simplifies the process of sharing and running applications by bundling them into a single image that can be easily distributed and executed on different computers. Here in the below code we used an Image named *python:3.9-slim* which is a light weight version of python and this image will make our container to run any of the python program easily.\n",
    "\n",
    "There are further some of the arguments that has been used in the code like:\n",
    "\n",
    "-   workdir : it is used to set the working directory of the container.\n",
    "-   exposed_ports : To expose a given port of the container\n",
    "-   command : If you want to make sure that whenever the container is built you shuld run a specific command, you can use this."
   ],
   "id": "ee822f11-8cf4-418d-b6bc-72f47d4e1036"
  },
  {
   "cell_type": "code",
   "execution_count": null,
   "metadata": {},
   "outputs": [
    {
     "output_type": "stream",
     "name": "stdout",
     "text": [
      "Creating container ...\n",
      "Successfully created container: cp3793-nyu-edu-iot-rpi-cm4-02-webserver!"
     ]
    }
   ],
   "source": [
    "\n",
    "lease_id =\"bf826fad-66b5-4eab-b563-8823b7e1d50a\"\n",
    "print(\"Creating container ...\")\n",
    "username = os.environ.get(\"USER\")\n",
    "device_name = \"iot-rpi-cm4-02\"\n",
    "# set a name for the container. Becaue CHI@Edge uses Kubernetes, ensure that underscores aren't in the name\n",
    "container_name = f\"{username}-{device_name}-ml-app\".replace(\"_\",\"-\")\n",
    "\n",
    "try:\n",
    "    my_container = container.create_container(\n",
    "        container_name,\n",
    "        image=\"python:3.8-slim\",\n",
    "        command=[\"python\", \"-m\", \"http.server\", \"8000\"],\n",
    "        workdir=\"/var/www/html\",\n",
    "        exposed_ports=[8000],\n",
    "        reservation_id=lease.get_device_reservation(lease_id),\n",
    "        platform_version=2,\n",
    "    )\n",
    "except RuntimeError as ex:\n",
    "    print(ex)\n",
    "    print(f\"please stop and/or delete {container_name} and try again\")\n",
    "else:\n",
    "    print(f\"Successfully created container: {container_name}!\")"
   ],
   "id": "7c1fd37e-0d33-4095-8331-485074d896d3"
  },
  {
   "cell_type": "markdown",
   "metadata": {},
   "source": [
    "### Interacting with the container\n",
    "\n",
    "Just like you ssh into a virtual machine and access that machine, you also can access the container by running terminal commands via container.execute() function."
   ],
   "id": "69cc76d5-17ab-4467-a976-af0dffa396b9"
  },
  {
   "cell_type": "code",
   "execution_count": null,
   "metadata": {},
   "outputs": [
    {
     "output_type": "stream",
     "name": "stdout",
     "text": [
      "echo Hello\n",
      "Hello"
     ]
    }
   ],
   "source": [
    "cmd = 'echo Hello'\n",
    "print(cmd)\n",
    "\n",
    "print(container.execute(my_container.uuid, cmd)[\"output\"])"
   ],
   "id": "7170e516-8dfb-4f91-9094-cfc3772c01d0"
  },
  {
   "cell_type": "markdown",
   "metadata": {},
   "source": [
    "### Attaching a public ip address to the container\n",
    "\n",
    "When you assign a public IP address, any exposed ports on your container can be reached over the public internet."
   ],
   "id": "d1886672-61b0-43e8-beb6-ac3d7f1c2d46"
  },
  {
   "cell_type": "code",
   "execution_count": null,
   "metadata": {},
   "outputs": [
    {
     "output_type": "stream",
     "name": "stdout",
     "text": [
      "129.114.34.182"
     ]
    }
   ],
   "source": [
    "public_ip = container.associate_floating_ip(my_container.uuid)\n",
    "\n",
    "print(public_ip)"
   ],
   "id": "4e8a488f-d54f-4d28-93ca-f2c2ba225a3f"
  },
  {
   "cell_type": "markdown",
   "metadata": {},
   "source": [
    "### Transfering files to and from the container\n",
    "\n",
    "-   To upload files to container we use `container.upload(container_ref: 'str', source: 'str', dest: 'str')` function.\n",
    "-   to download files from container to our local we use `container.download(container_ref: 'str', source: 'str', dest: 'str')` function."
   ],
   "id": "e5d1a4ad-2fc1-43b4-9678-65ed3f7e3922"
  },
  {
   "cell_type": "code",
   "execution_count": null,
   "metadata": {},
   "outputs": [
    {
     "output_type": "stream",
     "name": "stdout",
     "text": [
      "Files uploaded!"
     ]
    }
   ],
   "source": [
    "container.upload(my_container.uuid, \"./python_code\", \"/var/www/html\")\n",
    "#The code will be uploading some files which we will be going to use for our american sign language classification model\n",
    "print(\"Files uploaded!\")"
   ],
   "id": "d42fa863-047a-4533-a007-efa6d8386b3c"
  },
  {
   "cell_type": "markdown",
   "metadata": {},
   "source": [
    "## Creating an image classification model using tflite\n",
    "\n",
    "The folder which we previously uploaded contains:\n",
    "\n",
    "-   model.py (The python file which contains all the code to run the model)\n",
    "-   model.tflite (The tensorflow lite machine learning model for edge devices)\n",
    "-   image.png (This image which is going to be used to make prediction)\n",
    "-   Requirments.txt (Requirements file which is used to install all the requirements for our machine learning model)"
   ],
   "id": "49f99a0f-d797-40b5-ac5e-ce03c50089e4"
  },
  {
   "cell_type": "markdown",
   "metadata": {},
   "source": [
    "### Installing the required libraries\n",
    "\n",
    "We will be installing some of the libraries that we are going to need for our ml model."
   ],
   "id": "c9c8eb00-e104-446d-b1f7-0d1ca2095314"
  },
  {
   "cell_type": "code",
   "execution_count": null,
   "metadata": {},
   "outputs": [
    {
     "output_type": "stream",
     "name": "stdout",
     "text": [
      "pip install -r requirements.txt\n",
      "Requirement already satisfied: numpy in /usr/local/lib/python3.8/site-packages (from -r requirements.txt (line 1)) (1.24.4)\n",
      "Requirement already satisfied: tflite-runtime in /usr/local/lib/python3.8/site-packages (from -r requirements.txt (line 2)) (2.13.0)\n",
      "Requirement already satisfied: pillow in /usr/local/lib/python3.8/site-packages (from -r requirements.txt (line 3)) (10.0.0)"
     ]
    }
   ],
   "source": [
    "cmd = \"pip install -r requirements.txt\"\n",
    "print(cmd)\n",
    "print(container.execute(my_container.uuid, cmd)[\"output\"])"
   ],
   "id": "c2a2e651-4b0d-4c8c-8010-04fa2cb6e4b6"
  },
  {
   "cell_type": "code",
   "execution_count": null,
   "metadata": {},
   "outputs": [
    {
     "output_type": "stream",
     "name": "stdout",
     "text": [
      "pip list\n",
      "Package        Version\n",
      "-------------- -------\n",
      "numpy          1.24.4\n",
      "Pillow         10.0.0\n",
      "pip            23.0.1\n",
      "setuptools     57.5.0\n",
      "tflite-runtime 2.13.0\n",
      "wheel          0.40.0\n",
      "\n",
      "[notice] A new release of pip is available: 23.0.1 -> 23.1.2\n",
      "[notice] To update, run: pip install --upgrade pip"
     ]
    }
   ],
   "source": [
    "cmd = \"pip list\"\n",
    "print(cmd)\n",
    "print(container.execute(my_container.uuid, cmd)[\"output\"])"
   ],
   "id": "2ca12f8d-01f6-456e-b327-8365a4e86823"
  },
  {
   "cell_type": "markdown",
   "metadata": {},
   "source": [
    "### Running the model"
   ],
   "id": "8dc1c942-3212-46cc-a8a3-20c2fce8613c"
  },
  {
   "cell_type": "code",
   "execution_count": null,
   "metadata": {},
   "outputs": [
    {
     "output_type": "stream",
     "name": "stdout",
     "text": [
      "python model.py\n",
      "0.580392: fig\n",
      "0.568627: Granny Smith\n",
      "0.549020: spaghetti squash"
     ]
    }
   ],
   "source": [
    "cmd = \"python model.py\"\n",
    "print(cmd)\n",
    "print(container.execute(my_container.uuid, cmd)[\"output\"])"
   ],
   "id": "dcd57b50-a02a-4e90-9821-e351f794ddf2"
  },
  {
   "cell_type": "code",
   "execution_count": null,
   "metadata": {},
   "outputs": [],
   "source": [],
   "id": "f6a768c2-559d-4915-8ece-22cd75624114"
  }
 ],
 "nbformat": 4,
 "nbformat_minor": 5,
 "metadata": {}
}
