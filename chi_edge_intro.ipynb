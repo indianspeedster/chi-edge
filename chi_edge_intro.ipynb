{
 "cells": [
  {
   "cell_type": "markdown",
   "metadata": {
    "id": "ztrz6YNCLU89"
   },
   "source": [
    "# CHI@Edge : An Introduction\n",
    "\n",
    "**This notebook Covers:**\n",
    "1. Getting Started\n",
    "    * Creating a Lease\n",
    "    * Launching 1st Container\n",
    "    * Attaching a public IP\n",
    "    * Transfering files\n",
    "    <br></br>\n",
    "\n",
    "2. Creating an Image classification model using TFlite"
   ]
  },
  {
   "cell_type": "markdown",
   "metadata": {
    "id": "KglZW2vLLYuJ"
   },
   "source": [
    "## Getting Started"
   ]
  },
  {
   "cell_type": "markdown",
   "metadata": {
    "id": "W6obrQ8TLbmu"
   },
   "source": [
    "### Loading the Required Libraries"
   ]
  },
  {
   "cell_type": "code",
   "execution_count": 1,
   "metadata": {
    "id": "Dsn0wtavLRTu"
   },
   "outputs": [],
   "source": [
    "import chi\n",
    "from chi import container\n",
    "from chi import lease\n",
    "import datetime\n",
    "import os"
   ]
  },
  {
   "cell_type": "markdown",
   "metadata": {
    "id": "LS2PUq4yLe6h"
   },
   "source": [
    "### Setting up some of the environment variables"
   ]
  },
  {
   "cell_type": "code",
   "execution_count": 2,
   "metadata": {
    "id": "U5VVvuUdLiCY"
   },
   "outputs": [
    {
     "name": "stdout",
     "output_type": "stream",
     "text": [
      "Now using CHI@Edge:\n",
      "URL: https://chi.edge.chameleoncloud.org\n",
      "Location: University of Chicago, Chicago, Illinois, USA\n",
      "Support contact: help@chameleoncloud.org\n"
     ]
    }
   ],
   "source": [
    "# Before we go any further, we need to select which Chameleon site we will be using.\n",
    "chi.use_site(\"CHI@Edge\")\n",
    "#You can find your project ID on the user dashboard here: https://chameleoncloud.org/user/dashboard/\n",
    "chi.set(\"project_name\", \"CHI-231095\")"
   ]
  },
  {
   "cell_type": "markdown",
   "metadata": {
    "id": "wZOqTSz6Llud"
   },
   "source": [
    "### Creating a lease for the edge device\n",
    "View the host calendar to check availability https://chi.edge.chameleoncloud.org/project/leases/calendar/device/"
   ]
  },
  {
   "cell_type": "code",
   "execution_count": null,
   "metadata": {
    "id": "SRl50ZfiLox2"
   },
   "outputs": [],
   "source": [
    "# get your username, this will be used to make the lease identifiable for you.\n",
    "username = os.environ.get(\"USER\")\n",
    "\n",
    "# machine name refers to the \"type\" of device\n",
    "device_name = \"iot-rpi-cm4-02\"\n",
    "\n",
    "# these are start and end dates for the lease\n",
    "start_date, end_date = lease.lease_duration(days=2)\n",
    "exp_start_time = datetime.datetime.now().strftime(\"%Y%_m_%d_%H_%M_%S\")\n",
    "\n",
    "lease_name = f\"{username}-{device_name}-{exp_start_time}\"\n",
    "\n",
    "reservations = []\n",
    "lease.add_device_reservation(reservations, count=1, device_name = device_name )\n",
    "container_lease = lease.create_lease(lease_name, reservations)\n",
    "lease_id = container_lease[\"id\"]\n",
    "\n",
    "print(f\"Reservation made with name {lease_name} and uuid {lease_id}\")\n",
    "print(\"waiting for lease to start. This usually takes close to a minute.\")\n",
    "lease.wait_for_active(lease_id)\n",
    "print(\"Lease successfully created\")"
   ]
  },
  {
   "cell_type": "markdown",
   "metadata": {
    "id": "h0e2aeWeLtbE"
   },
   "source": [
    "### Launching the first Container\n",
    "\n",
    "- **Container** : A container is like a virtual box that holds everything needed to run a computer program. It includes the program itself, along with all the necessary files and settings it needs to work properly. Containers make it easy to move programs from one computer to another without any problems. Containers can be easily created and destroyed which we will see in coming steps\n",
    "\n",
    "- **Image** :  image is a self-contained package that contains all the necessary components to create and run a containerized program. It simplifies the process of sharing and running applications by bundling them into a single image that can be easily distributed and executed on different computers. Here in the below code we used an Image named *python:3.9-slim* which is a light weight version of python and this image will make our container to run any of the python program easily.\n",
    "\n",
    "There are further some of the arguments that has been used in the code like:\n",
    "\n",
    "* workdir : it is used to set the working directory of the container.\n",
    "* exposed_ports : To expose a given port of the container\n",
    "* command : If you want to make sure that whenever the container is built you shuld run a specific command, you can use this."
   ]
  },
  {
   "cell_type": "code",
   "execution_count": 7,
   "metadata": {
    "id": "pUvgohKwLwMW"
   },
   "outputs": [
    {
     "name": "stdout",
     "output_type": "stream",
     "text": [
      "Creating container ...\n",
      "Successfully created container: cp3793-nyu-edu-iot-rpi-cm4-02-webserver!\n"
     ]
    }
   ],
   "source": [
    "\n",
    "lease_id =\"bf826fad-66b5-4eab-b563-8823b7e1d50a\"\n",
    "print(\"Creating container ...\")\n",
    "username = os.environ.get(\"USER\")\n",
    "device_name = \"iot-rpi-cm4-02\"\n",
    "# set a name for the container. Becaue CHI@Edge uses Kubernetes, ensure that underscores aren't in the name\n",
    "container_name = f\"{username}-{device_name}-webserver\".replace(\"_\",\"-\")\n",
    "\n",
    "try:\n",
    "    my_container = container.create_container(\n",
    "        container_name,\n",
    "        image=\"python:3.8-slim\",\n",
    "        command=[\"python\", \"-m\", \"http.server\", \"8000\"],\n",
    "        workdir=\"/var/www/html\",\n",
    "        exposed_ports=[8000],\n",
    "        reservation_id=lease.get_device_reservation(lease_id),\n",
    "        platform_version=2,\n",
    "    )\n",
    "except RuntimeError as ex:\n",
    "    print(ex)\n",
    "    print(f\"please stop and/or delete {container_name} and try again\")\n",
    "else:\n",
    "    print(f\"Successfully created container: {container_name}!\")"
   ]
  },
  {
   "cell_type": "markdown",
   "metadata": {
    "id": "oz0wdXbrL2du"
   },
   "source": [
    "### Interacting with the container\n",
    "\n",
    "Just like you ssh into a virtual machine and access that machine, you also can access the container by running terminal commands via container.execute() function."
   ]
  },
  {
   "cell_type": "code",
   "execution_count": 8,
   "metadata": {
    "id": "YOHp6i2XL6gu"
   },
   "outputs": [
    {
     "name": "stdout",
     "output_type": "stream",
     "text": [
      "echo Hello\n",
      "Hello\n",
      "\n"
     ]
    }
   ],
   "source": [
    "cmd = 'echo Hello'\n",
    "print(cmd)\n",
    "\n",
    "print(container.execute(my_container.uuid, cmd)[\"output\"])"
   ]
  },
  {
   "cell_type": "markdown",
   "metadata": {
    "id": "u5CntkNbL-W7"
   },
   "source": [
    "### Attaching a public ip address to the container\n",
    "When you assign a public IP address, any exposed ports on your container can be reached over the public internet."
   ]
  },
  {
   "cell_type": "code",
   "execution_count": 9,
   "metadata": {
    "id": "AsTQSdX8MAtM"
   },
   "outputs": [
    {
     "name": "stdout",
     "output_type": "stream",
     "text": [
      "129.114.34.182\n"
     ]
    }
   ],
   "source": [
    "public_ip = container.associate_floating_ip(my_container.uuid)\n",
    "\n",
    "print(public_ip)"
   ]
  },
  {
   "cell_type": "markdown",
   "metadata": {
    "id": "mbocDjY3MDTB"
   },
   "source": [
    "### Transfering files to and from the container\n",
    "\n",
    "- To upload files to container we use ```container.upload(container_ref: 'str', source: 'str', dest: 'str')``` function.\n",
    "- to download files from container to our local we use ```container.download(container_ref: 'str', source: 'str', dest: 'str')``` function."
   ]
  },
  {
   "cell_type": "code",
   "execution_count": 18,
   "metadata": {
    "id": "iZ3z0pe7MFkm"
   },
   "outputs": [
    {
     "name": "stdout",
     "output_type": "stream",
     "text": [
      "Files uploaded!\n"
     ]
    }
   ],
   "source": [
    "container.upload(my_container.uuid, \"./python_code\", \"/var/www/html\")\n",
    "#The code will be uploading some files which we will be going to use for our american sign language classification model\n",
    "print(\"Files uploaded!\")"
   ]
  },
  {
   "cell_type": "markdown",
   "metadata": {
    "id": "qD0psqtEMMJi"
   },
   "source": [
    "## Creating an image classification model using tflite\n",
    "\n",
    "The folder which we previously uploaded contains:\n",
    "\n",
    "- model.py (The python file which contains all the code to run the model)\n",
    "- model.tflite (The tensorflow lite machine learning model for edge devices)\n",
    "- image.png (This image which is going to be used to make prediction)\n",
    "- Requirments.txt (Requirements file which is used to install all the requirements for our machine learning model)"
   ]
  },
  {
   "cell_type": "markdown",
   "metadata": {
    "id": "-8gAi12aMTTi"
   },
   "source": [
    "### Installing the required libraries\n",
    "We will be installing some of the libraries that we are going to need for our ml model."
   ]
  },
  {
   "cell_type": "code",
   "execution_count": 15,
   "metadata": {
    "id": "BetOaa1SMUD6"
   },
   "outputs": [
    {
     "name": "stdout",
     "output_type": "stream",
     "text": [
      "pip install -r requirements.txt\n",
      "Requirement already satisfied: numpy in /usr/local/lib/python3.8/site-packages (from -r requirements.txt (line 1)) (1.24.4)\n",
      "Requirement already satisfied: tflite-runtime in /usr/local/lib/python3.8/site-packages (from -r requirements.txt (line 2)) (2.13.0)\n",
      "Requirement already satisfied: pillow in /usr/local/lib/python3.8/site-packages (from -r requirements.txt (line 3)) (10.0.0)\n",
      "\n"
     ]
    }
   ],
   "source": [
    "cmd = \"pip install -r requirements.txt\"\n",
    "print(cmd)\n",
    "print(container.execute(my_container.uuid, cmd)[\"output\"])"
   ]
  },
  {
   "cell_type": "code",
   "execution_count": 16,
   "metadata": {
    "id": "mx0hkJoth9MD"
   },
   "outputs": [
    {
     "name": "stdout",
     "output_type": "stream",
     "text": [
      "pip list\n",
      "Package        Version\n",
      "-------------- -------\n",
      "numpy          1.24.4\n",
      "Pillow         10.0.0\n",
      "pip            23.0.1\n",
      "setuptools     57.5.0\n",
      "tflite-runtime 2.13.0\n",
      "wheel          0.40.0\n",
      "\n",
      "[notice] A new release of pip is available: 23.0.1 -> 23.1.2\n",
      "[notice] To update, run: pip install --upgrade pip\n",
      "\n"
     ]
    }
   ],
   "source": [
    "cmd = \"pip list\"\n",
    "print(cmd)\n",
    "print(container.execute(my_container.uuid, cmd)[\"output\"])"
   ]
  },
  {
   "cell_type": "markdown",
   "metadata": {
    "id": "t9u-PajBMass"
   },
   "source": [
    "### Running the model"
   ]
  },
  {
   "cell_type": "code",
   "execution_count": 19,
   "metadata": {
    "id": "s0p9JrG9MXZg"
   },
   "outputs": [
    {
     "name": "stdout",
     "output_type": "stream",
     "text": [
      "python model.py\n",
      "0.580392: fig\n",
      "0.568627: Granny Smith\n",
      "0.549020: spaghetti squash\n",
      "\n"
     ]
    }
   ],
   "source": [
    "cmd = \"python model.py\"\n",
    "print(cmd)\n",
    "print(container.execute(my_container.uuid, cmd)[\"output\"])"
   ]
  },
  {
   "cell_type": "code",
   "execution_count": null,
   "metadata": {},
   "outputs": [],
   "source": []
  }
 ],
 "metadata": {
  "colab": {
   "authorship_tag": "ABX9TyObKY2eT/u4DPsDLVdRviwg",
   "provenance": []
  },
  "kernelspec": {
   "display_name": "Python 3 (ipykernel)",
   "language": "python",
   "name": "python3"
  },
  "language_info": {
   "codemirror_mode": {
    "name": "ipython",
    "version": 3
   },
   "file_extension": ".py",
   "mimetype": "text/x-python",
   "name": "python",
   "nbconvert_exporter": "python",
   "pygments_lexer": "ipython3",
   "version": "3.10.9"
  }
 },
 "nbformat": 4,
 "nbformat_minor": 4
}
